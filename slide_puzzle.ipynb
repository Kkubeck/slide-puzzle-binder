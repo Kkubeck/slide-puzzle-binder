{
 "cells": [
  {
   "cell_type": "code",
   "execution_count": 1,
   "id": "16afa530-d54e-4ca7-b700-4b80e583318c",
   "metadata": {},
   "outputs": [
    {
     "data": {
      "application/vnd.jupyter.widget-view+json": {
       "model_id": "b1aa724348c843e48f6abe03654b90b7",
       "version_major": 2,
       "version_minor": 0
      },
      "text/plain": [
       "GridBox(children=(Button(layout=Layout(height='60px', width='60px'), style=ButtonStyle()), Button(description=…"
      ]
     },
     "metadata": {},
     "output_type": "display_data"
    }
   ],
   "source": [
    "import ipywidgets as widgets\n",
    "from IPython.display import display\n",
    "import random\n",
    "\n",
    "# Define puzzle size\n",
    "size = 3  # 3x3 puzzle\n",
    "\n",
    "# Generate puzzle numbers and shuffle\n",
    "numbers = list(range(1, size*size)) + ['']\n",
    "random.shuffle(numbers)\n",
    "\n",
    "# Create buttons\n",
    "buttons = [widgets.Button(description=str(n), layout=widgets.Layout(width='60px', height='60px')) for n in numbers]\n",
    "\n",
    "# Arrange buttons in a grid\n",
    "grid = widgets.GridBox(buttons, layout=widgets.Layout(grid_template_columns=('60px '*size)))\n",
    "\n",
    "# Display the grid\n",
    "display(grid)\n",
    "\n",
    "# Function to swap tiles\n",
    "def on_button_click(b):\n",
    "    idx = buttons.index(b)\n",
    "    empty_idx = [i for i, btn in enumerate(buttons) if btn.description == ''][0]\n",
    "    # Check if adjacent\n",
    "    if idx in [empty_idx - 1, empty_idx + 1, empty_idx - size, empty_idx + size]:\n",
    "        buttons[empty_idx].description, buttons[idx].description = buttons[idx].description, buttons[empty_idx].description\n",
    "\n",
    "# Bind click events\n",
    "for b in buttons:\n",
    "    b.on_click(on_button_click)\n"
   ]
  },
  {
   "cell_type": "code",
   "execution_count": null,
   "id": "59b2ddf0-039e-443e-8be4-ec62df7e0522",
   "metadata": {},
   "outputs": [],
   "source": []
  }
 ],
 "metadata": {
  "kernelspec": {
   "display_name": "Python [conda env:base] *",
   "language": "python",
   "name": "conda-base-py"
  },
  "language_info": {
   "codemirror_mode": {
    "name": "ipython",
    "version": 3
   },
   "file_extension": ".py",
   "mimetype": "text/x-python",
   "name": "python",
   "nbconvert_exporter": "python",
   "pygments_lexer": "ipython3",
   "version": "3.12.3"
  }
 },
 "nbformat": 4,
 "nbformat_minor": 5
}
